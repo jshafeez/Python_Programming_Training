{
  "nbformat": 4,
  "nbformat_minor": 0,
  "metadata": {
    "colab": {
      "provenance": []
    },
    "kernelspec": {
      "name": "python3",
      "display_name": "Python 3"
    },
    "language_info": {
      "name": "python"
    }
  },
  "cells": [
    {
      "cell_type": "markdown",
      "source": [
        "#Assignment-13"
      ],
      "metadata": {
        "id": "d_BC89ZELy5w"
      }
    },
    {
      "cell_type": "markdown",
      "source": [
        "**1. Create two int type variables, apply addition, subtraction, division and multiplications and store the results in variables. Then print the data in the following format by calling the variables:\n",
        "First variable is __ & second variable is __.\n",
        "Addition: __ + __ = __\n",
        "Subtraction: __ - __ = __\n",
        "Multiplication: __ * __ = __\n",
        "Division: __ / __ = __**\n",
        "\n",
        "**Answer.**\n",
        "\n",
        "The code that demonstrates how to create two integer variables, perform arithmetic operations on them:"
      ],
      "metadata": {
        "id": "KD2uGK7xILAs"
      }
    },
    {
      "cell_type": "code",
      "source": [
        "# Creating two int type variables\n",
        "a = 10\n",
        "b = 5\n",
        "\n",
        "# Performing arithmetic operations and storing results\n",
        "addition = a + b\n",
        "subtraction = a - b\n",
        "multiplication = a * b\n",
        "division = a / b  # This will result in a float\n",
        "\n",
        "# Printing the results in the required format\n",
        "print(f\"First variable is {a} & second variable is {b}.\")\n",
        "print(f\"Addition: {a} + {b} = {addition}\")\n",
        "print(f\"Subtraction: {a} - {b} = {subtraction}\")\n",
        "print(f\"Multiplication: {a} * {b} = {multiplication}\")\n",
        "print(f\"Division: {a} / {b} = {division}\")\n"
      ],
      "metadata": {
        "colab": {
          "base_uri": "https://localhost:8080/"
        },
        "id": "G41V5K8XIxfH",
        "outputId": "541fb72c-ae2d-4bf9-9ca3-ec736b6837cb"
      },
      "execution_count": 1,
      "outputs": [
        {
          "output_type": "stream",
          "name": "stdout",
          "text": [
            "First variable is 10 & second variable is 5.\n",
            "Addition: 10 + 5 = 15\n",
            "Subtraction: 10 - 5 = 5\n",
            "Multiplication: 10 * 5 = 50\n",
            "Division: 10 / 5 = 2.0\n"
          ]
        }
      ]
    },
    {
      "cell_type": "markdown",
      "source": [
        "**2. What is the difference between the following operators:**\n",
        "\n",
        "i) ‘/’ & ‘//’\n",
        "ii) ‘**’ & ‘^’\n",
        "\n",
        "**Answer.**\n",
        "\n",
        "**i) '/' & '//'**\n",
        "\n",
        "**'/' (Division Operator):** This is the standard division operator, which performs true division. It returns a float result even if the division is exact.\n",
        "\n",
        " **'//' (Floor Division Operator):** This operator performs floor division, which means it divides the numbers and then rounds the result down to the nearest whole number (truncates the decimal part).\n",
        "\n",
        " **ii) '**' & '^'**\n",
        "\n",
        "**** (Exponentiation Operator):** This operator is used to calculate the power of a number. It raises the number on the left to the power of the number on the right.\n",
        "\n",
        "**^ (Bitwise XOR Operator):** This operator is not for exponentiation; instead, it performs bitwise exclusive OR (XOR). It compares corresponding bits of two numbers and returns a number whose bits are set to 1 where the bits of the operands differ."
      ],
      "metadata": {
        "id": "N8Egdl-6I2uw"
      }
    },
    {
      "cell_type": "markdown",
      "source": [
        "**3. List the logical operators.**\n",
        "\n",
        "**Answer.**\n",
        "\n",
        "**i) and**\n",
        "\n",
        "\n",
        "Returns True if both operands are True.\n",
        "\n",
        "Returns False if either or both operands are False.\n",
        "\n",
        "**ii) or**\n",
        "\n",
        "Returns True if at least one of the operands is True.\n",
        "\n",
        "Returns False only if both operands are False.\n",
        "\n",
        "**iii) not**\n",
        "\n",
        "Returns True if the operand is False, and False if the operand is True.\n",
        "\n",
        "Used to invert the Boolean value of an expression."
      ],
      "metadata": {
        "id": "TaXGmd0sJ9rx"
      }
    },
    {
      "cell_type": "markdown",
      "source": [
        "**4. Explain right shift operator and left shift operator with examples.**\n",
        "\n",
        "**Answers**\n",
        "\n",
        "**i) Right Shift Operator (>>):**\n",
        "\n",
        "The right shift operator shifts the bits of the number to the right by the specified number of positions.\n",
        "The bits that are shifted out on the right are discarded, and zeros are shifted in from the left.\n",
        "The right shift operation effectively divides the number by 2^n, where n is the number of positions the bits are shifted.\n",
        "\n",
        "**ii) Left Shift Operator (<<):**\n",
        "\n",
        "The left shift operator shifts the bits of the number to the left by the specified number of positions.\n",
        "The bits shifted out on the left are discarded, and zeros are shifted in from the right.\n",
        "The left shift operation effectively multiplies the number by 2^n, where n is the number of positions the bits are shifted."
      ],
      "metadata": {
        "id": "1mVlzbcEKd8C"
      }
    },
    {
      "cell_type": "code",
      "source": [
        "#Example for Right Shift Operator (>>):\n",
        "\n",
        "num = 8  # Binary representation: 1000\n",
        "result = num >> 2  # Shift bits to the right by 2 positions\n",
        "# Binary after shift: 0010 (decimal 2)\n",
        "print(result)  # Output: 2\n",
        "\n",
        "\n",
        "#Example for Left Shift Operator (<<):\n",
        "\n",
        "num = 3  # Binary representation: 0011\n",
        "result = num << 2  # Shift bits to the left by 2 positions\n",
        "# Binary after shift: 1100 (decimal 12)\n",
        "print(result)  # Output: 12\n"
      ],
      "metadata": {
        "colab": {
          "base_uri": "https://localhost:8080/"
        },
        "id": "sYI8aW5zK-E-",
        "outputId": "7d26a9cf-b35d-40ec-9da2-ea32a3ce0147"
      },
      "execution_count": 3,
      "outputs": [
        {
          "output_type": "stream",
          "name": "stdout",
          "text": [
            "2\n",
            "12\n"
          ]
        }
      ]
    },
    {
      "cell_type": "markdown",
      "source": [
        "**5. Create a list containing int type data of length 15. Then write a code to check if 10 is present in the list or not.**\n",
        "\n",
        "**Answer.**\n",
        "\n",
        "Python code that creates a list with 15 integers and checks if the number 10 is present in the list:"
      ],
      "metadata": {
        "id": "S07ZjFsWLQDo"
      }
    },
    {
      "cell_type": "code",
      "source": [
        "# Creating a list of length 15 with integer data\n",
        "my_list = [5, 12, 7, 10, 3, 8, 15, 6, 4, 10, 11, 1, 9, 2, 14]\n",
        "\n",
        "# Checking if 10 is present in the list\n",
        "if 10 in my_list:\n",
        "    print(\"10 is present in the list.\")\n",
        "else:\n",
        "    print(\"10 is not present in the list.\")\n"
      ],
      "metadata": {
        "colab": {
          "base_uri": "https://localhost:8080/"
        },
        "id": "gEPJ3ZS5LeYw",
        "outputId": "fe6632a1-1e35-4454-cbcf-469e6e4865a4"
      },
      "execution_count": 7,
      "outputs": [
        {
          "output_type": "stream",
          "name": "stdout",
          "text": [
            "10 is present in the list.\n"
          ]
        }
      ]
    }
  ]
}