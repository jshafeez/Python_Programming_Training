{
  "nbformat": 4,
  "nbformat_minor": 0,
  "metadata": {
    "colab": {
      "provenance": []
    },
    "kernelspec": {
      "name": "python3",
      "display_name": "Python 3"
    },
    "language_info": {
      "name": "python"
    }
  },
  "cells": [
    {
      "cell_type": "markdown",
      "source": [
        "# Assignment-08"
      ],
      "metadata": {
        "id": "kpJV8oI7_kwr"
      }
    },
    {
      "cell_type": "markdown",
      "source": [
        "**1. In Python, what is the difference between a built-in function and a user-defined function? Provide an example of each.**\n",
        "\n",
        "**Answer.**\n",
        "\n",
        "i) **Built-in Function:**\n",
        "\n",
        "These are functions that are pre-defined in Python. They are part of Python's standard library and do not require any additional code to be imported.\n",
        "\n",
        "Purpose: They are provided by Python to perform common operations or tasks, making programming easier and more efficient.\n",
        "\n",
        "ii) **User-defined Function:**\n",
        "\n",
        "These are functions created by the programmer to perform a specific task. They are defined using the def keyword in Python.\n",
        "\n",
        "Purpose: They help in organizing code into reusable blocks and improving code readability and maintainability."
      ],
      "metadata": {
        "id": "fjeqkWtD5CWv"
      }
    },
    {
      "cell_type": "code",
      "source": [
        "#i) Built-in Function Example\n",
        "\n",
        "result = len(\"Hello, world!\")\n",
        "print(result)  # Output: 13\n",
        "\n",
        "\n",
        "#ii) User-defined Function Example\n",
        "\n",
        "def greet(name):\n",
        "    return f\"Hello, {name}!\"\n",
        "\n",
        "# Using the user-defined function\n",
        "message = greet(\"Alice\")\n",
        "print(message)  # Output: Hello, Alice!\n"
      ],
      "metadata": {
        "colab": {
          "base_uri": "https://localhost:8080/"
        },
        "id": "XNTMvwFC52NT",
        "outputId": "54fe3e4d-a781-4569-f591-51f1917362b0"
      },
      "execution_count": 1,
      "outputs": [
        {
          "output_type": "stream",
          "name": "stdout",
          "text": [
            "13\n",
            "Hello, Alice!\n"
          ]
        }
      ]
    },
    {
      "cell_type": "markdown",
      "source": [
        "**2. How can you pass arguments to a function in Python? Explain the difference between positional arguments and keyword arguments.**\n",
        "\n",
        "**Answer.**\n",
        "\n",
        "Python provides different ways of passing the arguments during the function call from which we will explore keyword argument means passing the argument by using the parameter names during the function call.\n",
        "\n",
        "**Positional Arguments:**\n",
        "Position arguments mean whenever we pass the arguments in the order we have defined function parameters in which if you change the argument position then you may get the unexpected output. We should use positional Arguments whenever we know the order of argument to be passed. So now, we will call the function by using the position arguments in two ways and In both cases, we will be getting different outputs from which one will be correct and another one will be incorrect.\n",
        "\n",
        "**Keyword Arguments:**\n",
        "Keyword arguments mean whenever we pass the arguments(or value) by their parameter names at the time of calling the function in Python in which if you change the position of arguments then there will be no change in the output."
      ],
      "metadata": {
        "id": "L3ozx36_6VDX"
      }
    },
    {
      "cell_type": "markdown",
      "source": [
        "**3. What is the purpose of the return statement in a function? Can a function have multiple return statements? Explain with an example.**\n",
        "\n",
        "**Answe.r**\n",
        "\n",
        "The return statement in a function is used to exit the function and send a value back to the caller. This allows a function to produce a result or output that can be used elsewhere in the program. Without a return statement, a function will return None by default.\n",
        "\n",
        "Yes, a function can have multiple return statements, but only one return statement will be executed during a single function call. Once a return statement is reached, the function exits immediately, and the remaining code after the return statement is not executed.\n",
        "\n"
      ],
      "metadata": {
        "id": "smBoOv-U7TDk"
      }
    },
    {
      "cell_type": "code",
      "source": [
        "#Example of using multiple return statemnets\n",
        "\n",
        "def check_number(num):\n",
        "    if num > 0:\n",
        "        return \"The number is positive\"\n",
        "    elif num < 0:\n",
        "        return \"The number is negative\"\n",
        "    else:\n",
        "        return \"The number is zero\"\n",
        "\n",
        "# Example usage\n",
        "result = check_number(10)\n",
        "print(result)  # Output: The number is positive\n",
        "\n",
        "result = check_number(-5)\n",
        "print(result)  # Output: The number is negative\n",
        "\n",
        "result = check_number(0)\n",
        "print(result)  # Output: The number is zero\n"
      ],
      "metadata": {
        "colab": {
          "base_uri": "https://localhost:8080/"
        },
        "id": "2wgC2bSU7w0m",
        "outputId": "3ee41df8-d094-4b27-b381-a4781f05a9e9"
      },
      "execution_count": 2,
      "outputs": [
        {
          "output_type": "stream",
          "name": "stdout",
          "text": [
            "The number is positive\n",
            "The number is negative\n",
            "The number is zero\n"
          ]
        }
      ]
    },
    {
      "cell_type": "markdown",
      "source": [
        "**4. What are lambda functions in Python? How are they different from regular functions? Provide an example where a lambda function can be useful.**\n",
        "\n",
        "**Answer.**\n",
        "\n",
        "Lambda functions in Python are small, anonymous functions defined using the lambda keyword. They are often used for simple, one-off operations that don't require the full syntax of a standard function.\n",
        "\n",
        "**Difference Between Lambda Functions and Regular Functions:**\n",
        "\n",
        "Syntax: Regular functions are defined using the def keyword, while lambda functions use the lambda keyword.\n",
        "\n",
        "Complexity: Regular functions can include multiple expressions, statements, and a return statement. Lambda functions are limited to a single expression.\n",
        "\n",
        "Use Case: Regular functions are better suited for more complex logic and larger blocks of code. Lambda functions are used for small, simple operations, often when passing functions as arguments to higher-order functions.\n"
      ],
      "metadata": {
        "id": "cc4zXIk77_Gc"
      }
    },
    {
      "cell_type": "code",
      "source": [
        "#Example of a lambda function\n",
        "\n",
        "# Regular function\n",
        "def add(x, y):\n",
        "    return x + y\n",
        "\n",
        "# Lambda function\n",
        "add_lambda = lambda x, y: x + y\n",
        "\n",
        "# Using both functions\n",
        "print(add(3, 5))         # Output: 8\n",
        "print(add_lambda(3, 5))  # Output: 8\n"
      ],
      "metadata": {
        "colab": {
          "base_uri": "https://localhost:8080/"
        },
        "id": "1gm3YKJa8jeu",
        "outputId": "67c34e3c-8cb2-43a0-b06c-8183e92f303b"
      },
      "execution_count": 3,
      "outputs": [
        {
          "output_type": "stream",
          "name": "stdout",
          "text": [
            "8\n",
            "8\n"
          ]
        }
      ]
    },
    {
      "cell_type": "markdown",
      "source": [
        "**5. How does the concept of \"scope\" apply to functions in Python? Explain the difference between local scope and global scope.**\n",
        "\n",
        "**Answer.**\n",
        "\n",
        "In Python, scope refers to the context in which a variable is defined and accessible. The concept of scope determines the region of the code where a variable can be accessed or modified. Python has two main types of scopes related to functions:\n",
        "\n",
        "i) **Local Scope:**\n",
        "\n",
        "A variable has a local scope if it is defined inside a function. Such variables are accessible only within the function in which they are defined. They exist only while the function is running and are destroyed once the function completes execution.\n",
        "\n",
        "ii) **Global Scope:**\n",
        "\n",
        "A variable has a global scope if it is defined outside of any function. Such variables are accessible from anywhere in the code, including inside functions. They exist as long as the program is running and can be accessed and modified throughout the entire program."
      ],
      "metadata": {
        "id": "JB0fQEGt8vnv"
      }
    },
    {
      "cell_type": "markdown",
      "source": [
        "**6. How can you use the \"return\" statement in a Python function to return multiple values?**\n",
        "\n",
        "**Answer.**\n",
        "\n",
        "In Python, you can use the return statement to return multiple values from a function by separating them with commas. When you return multiple values this way, Python implicitly creates a tuple containing those values, which can then be unpacked when calling the function.\n"
      ],
      "metadata": {
        "id": "mlkTm6qn9Whh"
      }
    },
    {
      "cell_type": "code",
      "source": [
        "#Example of returning multiple values.\n",
        "\n",
        "def calculate_statistics(x, y):\n",
        "    sum_result = x + y\n",
        "    difference = x - y\n",
        "    product = x * y\n",
        "    return sum_result, difference, product  # Returning multiple values\n",
        "\n",
        "# Calling the function and unpacking the returned tuple\n",
        "result_sum, result_diff, result_product = calculate_statistics(10, 5)\n",
        "\n",
        "print(\"Sum:\", result_sum)           # Output: Sum: 15\n",
        "print(\"Difference:\", result_diff)   # Output: Difference: 5\n",
        "print(\"Product:\", result_product)   # Output: Product: 50\n"
      ],
      "metadata": {
        "colab": {
          "base_uri": "https://localhost:8080/"
        },
        "id": "lpRpjVyM9nNw",
        "outputId": "953a28ec-7369-4015-8da3-6a3bc8c251b6"
      },
      "execution_count": 4,
      "outputs": [
        {
          "output_type": "stream",
          "name": "stdout",
          "text": [
            "Sum: 15\n",
            "Difference: 5\n",
            "Product: 50\n"
          ]
        }
      ]
    },
    {
      "cell_type": "markdown",
      "source": [
        "**7. What is the difference between the \"pass by value\" and \"pass by reference\" concepts when it comes to function arguments in Python?**\n",
        "\n",
        "**Answer.**\n",
        "\n",
        "In Python, the concepts of \"pass by value\" and \"pass by reference\" can be somewhat misleading, as Python uses a mechanism called \"pass by object reference\".\n",
        "\n",
        "i) **Pass by Value:**\n",
        "In languages that use pass by value, when a function is called, a copy of the argument is passed to the function. Changes made to the parameter inside the function do not affect the original variable outside the function.\n",
        "\n",
        "ii) **Pass by Reference:**\n",
        "In languages that use pass by reference, when a function is called, a reference to the original variable is passed. Changes made to the parameter inside the function affect the original variable outside the function."
      ],
      "metadata": {
        "id": "U861SCvm9w8y"
      }
    },
    {
      "cell_type": "markdown",
      "source": [
        "**8. Create a function that can intake integer or decimal value and do following operations:\n",
        "a. Logarithmic function (log x)\n",
        "b. Exponential function (exp(x))\n",
        "c. Power function with base 2 (2x)\n",
        "d. Square root**\n",
        "\n",
        "**Answer.**"
      ],
      "metadata": {
        "id": "MI5LVyp0-hOA"
      }
    },
    {
      "cell_type": "code",
      "source": [
        "import math\n",
        "\n",
        "def perform_operations(value):\n",
        "    if value <= 0:\n",
        "        raise ValueError(\"The input value must be greater than 0 for logarithmic and square root operations.\")\n",
        "\n",
        "    # Calculate the logarithm (base e)\n",
        "    log_value = math.log(value)\n",
        "\n",
        "    # Calculate the exponential (e^x)\n",
        "    exp_value = math.exp(value)\n",
        "\n",
        "    # Calculate power function with base 2 (2^x)\n",
        "    power_value = math.pow(2, value)\n",
        "\n",
        "    # Calculate the square root\n",
        "    sqrt_value = math.sqrt(value)\n",
        "\n",
        "    # Return the results as a dictionary\n",
        "    return {\n",
        "        \"log(x)\": log_value,\n",
        "        \"exp(x)\": exp_value,\n",
        "        \"2^x\": power_value,\n",
        "        \"sqrt(x)\": sqrt_value\n",
        "    }\n",
        "\n",
        "# Example usage:\n",
        "try:\n",
        "    result = perform_operations(4)\n",
        "    for operation, result_value in result.items():\n",
        "        print(f\"{operation}: {result_value:.2f}\")\n",
        "except ValueError as e:\n",
        "    print(e)\n"
      ],
      "metadata": {
        "colab": {
          "base_uri": "https://localhost:8080/"
        },
        "id": "2mHuZPi0_GQA",
        "outputId": "7d7016c2-e658-4767-8ea5-a96130bbcc94"
      },
      "execution_count": 5,
      "outputs": [
        {
          "output_type": "stream",
          "name": "stdout",
          "text": [
            "log(x): 1.39\n",
            "exp(x): 54.60\n",
            "2^x: 16.00\n",
            "sqrt(x): 2.00\n"
          ]
        }
      ]
    },
    {
      "cell_type": "markdown",
      "source": [
        "**9. Create a function that takes a full name as an argument and returns first name and last name.**\n",
        "\n",
        "**Answer.**\n"
      ],
      "metadata": {
        "id": "jt6R6RNg_IMX"
      }
    },
    {
      "cell_type": "code",
      "source": [
        "def split_name(full_name):\n",
        "    # Split the full name into parts by spaces\n",
        "    name_parts = full_name.split()\n",
        "\n",
        "    # Check if the name has at least two parts (first and last name)\n",
        "    if len(name_parts) < 2:\n",
        "        raise ValueError(\"Please provide both a first name and a last name.\")\n",
        "\n",
        "    # Extract the first and last name\n",
        "    first_name = name_parts[0]\n",
        "    last_name = name_parts[-1]\n",
        "\n",
        "    return first_name, last_name\n",
        "\n",
        "# Example usage:\n",
        "try:\n",
        "    first, last = split_name(\"Mohammed Hafeez\")\n",
        "    print(f\"First Name: {first}\")\n",
        "    print(f\"Last Name: {last}\")\n",
        "except ValueError as e:\n",
        "    print(e)\n"
      ],
      "metadata": {
        "colab": {
          "base_uri": "https://localhost:8080/"
        },
        "id": "1zEmbqoZ_VWi",
        "outputId": "8385b694-977d-4060-a5db-07f26c11ec4f"
      },
      "execution_count": 7,
      "outputs": [
        {
          "output_type": "stream",
          "name": "stdout",
          "text": [
            "First Name: Mohammed\n",
            "Last Name: Hafeez\n"
          ]
        }
      ]
    }
  ]
}