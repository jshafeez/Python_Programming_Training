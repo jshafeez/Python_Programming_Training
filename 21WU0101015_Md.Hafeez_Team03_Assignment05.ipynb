{
 "cells": [
  {
   "cell_type": "markdown",
   "id": "75c2281c-9e86-4328-b2e3-a768015ab5eb",
   "metadata": {},
   "source": [
    "1. **Empty dictionary:**\n",
    "   An empty dictionary in Python is created using curly braces `{}`.\n",
    "   ```python\n",
    "   empty_dict = {}\n",
    "   ```\n",
    "\n",
    "2. **Value of a dictionary with key 'foo' and value 42:**\n",
    "   If you have a dictionary with the key `'foo'` and the value `42`, you can access the value by referencing the key:\n",
    "   ```python\n",
    "   my_dict = {'foo': 42}\n",
    "   value = my_dict['foo']  \n",
    "   ```\n",
    "\n",
    "3. **Distinction between a dictionary and a list:**\n",
    "   The most significant distinction is that a **dictionary** is an unordered collection of key-value pairs, while a **list** is an ordered collection of items, indexed by their position (integer index). In a dictionary, each key is unique and maps to a value, while in a list, the items are stored in a sequence and can be accessed by their index.\n",
    "\n",
    "4. **Accessing `spam['foo']` if `spam = {'bar': 100}`:**\n",
    "   If you try to access `spam['foo']` when `spam` contains `{'bar': 100}`, you will get a `KeyError`, because the key `'foo'` does not exist in the dictionary.\n",
    "   ```python\n",
    "   spam = {'bar': 100}\n",
    "   print(spam['foo'])  \n",
    "   ```\n",
    "\n",
    "5. **Difference between `'cat' in spam` and `'cat' in spam.keys()`:**\n",
    "   Both expressions check if the key `'cat'` is present in the dictionary `spam`. However:\n",
    "   - `'cat' in spam` is a more direct way to check if `'cat'` is a key in the dictionary.\n",
    "   - `'cat' in spam.keys()` explicitly checks if `'cat'` is present in the dictionary's keys (which is the same as the first expression but slightly less efficient, as it creates a view of the keys).\n",
    "\n",
    "6. **Difference between `'cat' in spam` and `'cat' in spam.values()`:**\n",
    "   - `'cat' in spam` checks if `'cat'` is a key in the dictionary.\n",
    "   - `'cat' in spam.values()` checks if `'cat'` is one of the values in the dictionary, not the key.\n",
    "\n",
    "7. **Shortcut for checking and adding a key-value pair:**\n",
    "   You can use the `setdefault` method as a shortcut to check if a key exists, and if not, set a default value:\n",
    "   ```python\n",
    "   spam.setdefault('color', 'black')\n",
    "   ```\n",
    "\n",
    "8. **Pretty print dictionary values:**\n",
    "   To pretty print dictionary values, you can use the `pprint` module and its `pprint()` function:\n",
    "   ```python\n",
    "   import pprint\n",
    "   spam = {'color': 'black', 'size': 'large'}\n",
    "   pprint.pprint(spam)\n"
   ]
  },
  {
   "cell_type": "code",
   "execution_count": null,
   "id": "dcb3d316-728b-42fa-b910-15c8ef3b8178",
   "metadata": {},
   "outputs": [],
   "source": []
  }
 ],
 "metadata": {
  "kernelspec": {
   "display_name": "Python 3 (ipykernel)",
   "language": "python",
   "name": "python3"
  },
  "language_info": {
   "codemirror_mode": {
    "name": "ipython",
    "version": 3
   },
   "file_extension": ".py",
   "mimetype": "text/x-python",
   "name": "python",
   "nbconvert_exporter": "python",
   "pygments_lexer": "ipython3",
   "version": "3.12.7"
  }
 },
 "nbformat": 4,
 "nbformat_minor": 5
}
