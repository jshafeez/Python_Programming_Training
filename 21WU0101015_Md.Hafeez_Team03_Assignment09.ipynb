{
  "nbformat": 4,
  "nbformat_minor": 0,
  "metadata": {
    "colab": {
      "provenance": []
    },
    "kernelspec": {
      "name": "python3",
      "display_name": "Python 3"
    },
    "language_info": {
      "name": "python"
    }
  },
  "cells": [
    {
      "cell_type": "markdown",
      "source": [
        "# Assignment-09\n"
      ],
      "metadata": {
        "id": "s0IxYHaFA8Q6"
      }
    },
    {
      "cell_type": "markdown",
      "source": [
        "**1. What is a lambda function in Python, and how does it differ from a regular function?**\n",
        "\n",
        "**Answer.**\n",
        "\n",
        "A lambda function in Python is an anonymous, one-line function defined using the lambda keyword. It can take any number of arguments but can only contain a single expression.\n",
        "\n",
        "**Differences Between Lambda Functions and Regular Functions:**\n",
        "\n",
        "**Syntax:**\n",
        "\n",
        "Lambda Function: Defined using lambda keyword.\n",
        "\n",
        "Regular Function: Defined using def keyword.\n",
        "\n",
        "**Complexity:**\n",
        "\n",
        "Lambda Function: Limited to a single expression and cannot include complex logic or statements.\n",
        "\n",
        "Regular Function: Can include multiple statements and complex logic, making them more flexible.\n",
        "\n",
        "**Readability:**\n",
        "\n",
        "Lambda Function: Best used for short, simple operations.\n",
        "\n",
        "Regular Function: More readable and suitable for longer, more complex operations."
      ],
      "metadata": {
        "id": "OdJ616ra_-21"
      }
    },
    {
      "cell_type": "markdown",
      "source": [
        "**2. Can a lambda function in Python have multiple arguments? If yes, how can you define and use them?**\n",
        "\n",
        "**Answer.**\n",
        "\n",
        "Yes, a lambda function in Python can take multiple arguments. You can define and use them just like you would in a regular function. The syntax for a lambda function with multiple arguments is:\n",
        "\n",
        "\"lambda arg1, arg2, ..., argN: expression\"\n",
        "\n",
        "**Defining and Using a Lambda Function with Multiple Arguments:**"
      ],
      "metadata": {
        "id": "3OOS9wrBA7FC"
      }
    },
    {
      "cell_type": "code",
      "source": [
        "# Lambda function to add three numbers\n",
        "add_three_numbers = lambda a, b, c: a + b + c\n",
        "\n",
        "# Using the lambda function\n",
        "result = add_three_numbers(5, 10, 15)\n",
        "print(result)  # Output: 30\n"
      ],
      "metadata": {
        "colab": {
          "base_uri": "https://localhost:8080/"
        },
        "id": "dpah5psfB16Y",
        "outputId": "0433ec5a-0fce-47bc-fa01-08e8dcdbcd21"
      },
      "execution_count": 3,
      "outputs": [
        {
          "output_type": "stream",
          "name": "stdout",
          "text": [
            "30\n"
          ]
        }
      ]
    },
    {
      "cell_type": "markdown",
      "source": [
        "**3. How are lambda functions typically used in Python? Provide an example use case.**\n",
        "\n",
        "**Answer.**\n",
        "\n",
        "\n",
        "Lambda functions in Python are typically used for short, simple operations that are required temporarily. They are often used as arguments to higher-order functions, which are functions that take other functions as parameters. Common use cases include:\n",
        "\n",
        "Using map() to apply a function to each element of an iterable.\n",
        "\n",
        "Using filter() to filter elements of an iterable based on a condition.\n",
        "\n",
        "Using sorted() to sort items based on a custom key function.\n",
        "\n",
        "Using reduce() to apply a function cumulatively to the elements of an iterable.\n",
        "\n",
        "**Example Use Case: Sorting a List of Tuples**"
      ],
      "metadata": {
        "id": "CQjAJgOtB8nk"
      }
    },
    {
      "cell_type": "code",
      "source": [
        "people = [(\"Alice\", 30), (\"Bob\", 25), (\"Charlie\", 35)]\n",
        "\n",
        "# Sort the list by age (second element of the tuple)\n",
        "sorted_people = sorted(people, key=lambda x: x[1])\n",
        "\n",
        "print(sorted_people)\n",
        "# Output: [('Bob', 25), ('Alice', 30), ('Charlie', 35)]\n"
      ],
      "metadata": {
        "colab": {
          "base_uri": "https://localhost:8080/"
        },
        "id": "ccrDGVKRCjzh",
        "outputId": "21d999fd-aab6-41b9-c952-d8c5e4811488"
      },
      "execution_count": 1,
      "outputs": [
        {
          "output_type": "stream",
          "name": "stdout",
          "text": [
            "[('Bob', 25), ('Alice', 30), ('Charlie', 35)]\n"
          ]
        }
      ]
    },
    {
      "cell_type": "markdown",
      "source": [
        "**4. What are the advantages and limitations of lambda functions compared to regular functions in Python?**\n",
        "\n",
        "**Answer.**\n",
        "\n",
        "**Advantages of Lambda Functions:**\n",
        "\n",
        "**Conciseness:**\n",
        "\n",
        "**Short and Simple:** Lambda functions are written in a single line, making them more concise than regular functions. This is especially useful for small operations that don’t require complex logic.\n",
        "\n",
        "**Inline Use:** They can be defined and used directly in expressions, making them ideal for short, one-off use cases.\n",
        "\n",
        "**Readability for Simple Logic:**\n",
        "\n",
        "When the logic is simple and only requires a single operation, lambda functions can be more readable than defining a full function with def.\n",
        "\n",
        "**Convenience in Higher-Order Functions:**\n",
        "\n",
        "Lambdas are commonly used with higher-order functions like map(), filter(), sorted(), and reduce() to provide custom behavior without the need for defining a named function. They help keep the code clean and readable when the function logic is simple and only used in that context.\n",
        "\n",
        "**No Need for Naming:**\n",
        "\n",
        "Useful for temporary, throwaway functions that don’t need a name, which can help reduce clutter in your code.\n",
        "\n",
        "**Limitations of Lambda Functions:**\n",
        "\n",
        "**Single Expression Only:**\n",
        "\n",
        "Lambdas can only contain a single expression and cannot have multiple statements. This makes them unsuitable for complex operations that require multiple lines of code or control flow (e.g., if statements, loops).\n",
        "\n",
        "**Example Limitation:**\n",
        "\n",
        "Invalid, as it has multiple statements\n",
        "\"lambda x: if x > 0: print(x) else: print(-x)\"\n",
        "\n",
        "**Limited Readability for Complex Logic:**\n",
        "\n",
        "\n",
        "If the logic inside a lambda function is complex, it can become hard to read and understand. This may reduce code clarity and maintainability.\n",
        "For complex operations, using a regular function with def is more readable and easier to debug.\n",
        "\n",
        "**No Documentation or Annotations:**\n",
        "\n",
        "Lambdas do not support docstrings or type annotations. This can make it difficult to understand the purpose and expected behavior of the function, especially in larger projects or when the code needs to be shared with others.\n",
        "\n",
        "**Debugging Challenges:**\n",
        "\n",
        "Because lambdas do not have a name, it can be harder to debug them when errors occur, as error messages may refer to them as <lambda> instead of a specific function name.\n",
        "\n",
        "**Limited Reusability:**\n",
        "\n",
        "Lambdas are often used for short, one-time operations, making them less suitable for functions that need to be reused or shared across different parts of a program."
      ],
      "metadata": {
        "id": "JIr-l4eCCxAO"
      }
    },
    {
      "cell_type": "markdown",
      "source": [
        "**5. Are lambda functions in Python able to access variables defined outside of their own scope? Explain with an example.**\n",
        "\n",
        "**Answer.**\n",
        "\n",
        "\n",
        "Yes, lambda functions in Python are able to access variables defined outside of their own scope. This is because they are lexically scoped, meaning that they can capture and use variables from the surrounding context where they are defined.\n",
        "\n",
        "When a lambda function is created, it retains access to the variables that are in its enclosing scope. This allows lambda functions to use variables from outside their immediate scope, which can be useful for creating closures."
      ],
      "metadata": {
        "id": "k1toaFOLD9xo"
      }
    },
    {
      "cell_type": "code",
      "source": [
        "x = 10  # Variable defined outside the lambda function\n",
        "\n",
        "# Lambda function that uses the variable `x` from the outer scope\n",
        "add_x = lambda y: x + y\n",
        "\n",
        "# Calling the lambda function\n",
        "result = add_x(5)\n",
        "print(result)  # Output: 15 (10 from the outer scope + 5 passed to the lambda)\n"
      ],
      "metadata": {
        "colab": {
          "base_uri": "https://localhost:8080/"
        },
        "id": "3O39qBX4EOf1",
        "outputId": "fc107f26-af5a-46a6-c02c-640f13a0d6ce"
      },
      "execution_count": 2,
      "outputs": [
        {
          "output_type": "stream",
          "name": "stdout",
          "text": [
            "15\n"
          ]
        }
      ]
    },
    {
      "cell_type": "markdown",
      "source": [
        "**6. Write a lambda function to calculate the square of a given number.**\n",
        "\n",
        "**Answer.**\n",
        "\n",
        "lambda function to calculate the square of a given number:\n",
        "\n",
        "\"square = lambda x: x ** 2\"\n"
      ],
      "metadata": {
        "id": "fPO9j9q0EWjD"
      }
    },
    {
      "cell_type": "code",
      "source": [
        "square = lambda x: x ** 2\n",
        "\n",
        "#Usage of example\n",
        "print(square(4))  # Output: 16\n",
        "print(square(7))  # Output: 49\n"
      ],
      "metadata": {
        "colab": {
          "base_uri": "https://localhost:8080/"
        },
        "id": "b2Bm_T5oEvGn",
        "outputId": "464ef127-85f5-4b6b-c09a-f3a6ecae2430"
      },
      "execution_count": 5,
      "outputs": [
        {
          "output_type": "stream",
          "name": "stdout",
          "text": [
            "16\n",
            "49\n"
          ]
        }
      ]
    },
    {
      "cell_type": "markdown",
      "source": [
        "**7. Create a lambda function to find the maximum value in a list of integers.**\n",
        "\n",
        "**Answers**\n",
        "\n",
        "lambda function to find the maximum value in a list of integers:\n",
        "\n",
        "\"max_value = lambda nums: max(nums)\""
      ],
      "metadata": {
        "id": "tCXF87EEE6Xm"
      }
    },
    {
      "cell_type": "code",
      "source": [
        "max_value = lambda nums: max(nums)\n",
        "\n",
        "#Usage of exapmle\n",
        "numbers = [3, 8, 1, 15, 6]\n",
        "print(max_value(numbers))  # Output: 15\n"
      ],
      "metadata": {
        "colab": {
          "base_uri": "https://localhost:8080/"
        },
        "id": "eH8J8s2tFJqg",
        "outputId": "efd27346-098b-4cbe-a13d-3d6a34dc827e"
      },
      "execution_count": 6,
      "outputs": [
        {
          "output_type": "stream",
          "name": "stdout",
          "text": [
            "15\n"
          ]
        }
      ]
    },
    {
      "cell_type": "markdown",
      "source": [
        "**8. Implement a lambda function to filter out all the even numbers from a list of integers.**\n",
        "\n",
        "**Answer.**\n",
        "\n",
        "lambda function to filter out all the even numbers from a list of integers:\n",
        "\n",
        "\"filter_evens = lambda nums: list(filter(lambda x: x % 2 == 0, nums))\""
      ],
      "metadata": {
        "id": "gOlPvemFFQey"
      }
    },
    {
      "cell_type": "code",
      "source": [
        "filter_evens = lambda nums: list(filter(lambda x: x % 2 == 0, nums))\n",
        "\n",
        "\n",
        "#Usage of example\n",
        "numbers = [1, 2, 3, 4, 5, 6, 7, 8, 9, 10]\n",
        "print(filter_evens(numbers))  # Output: [2, 4, 6, 8, 10]\n"
      ],
      "metadata": {
        "colab": {
          "base_uri": "https://localhost:8080/"
        },
        "id": "1UOEDR_wFrfj",
        "outputId": "281bb769-5c6e-4589-a0f4-e45cc3aafcb8"
      },
      "execution_count": 7,
      "outputs": [
        {
          "output_type": "stream",
          "name": "stdout",
          "text": [
            "[2, 4, 6, 8, 10]\n"
          ]
        }
      ]
    },
    {
      "cell_type": "markdown",
      "source": [
        "**9. Write a lambda function to sort a list of strings in ascending order based on the length of each string.**\n",
        "\n",
        "**Answer.**\n",
        "\n",
        "lambda function to sort a list of strings in ascending order based on the length of each string:\n",
        "\n",
        "\"sort_by_length = lambda strings: sorted(strings, key=lambda x: len(x))\""
      ],
      "metadata": {
        "id": "wfcK8qIgF2F3"
      }
    },
    {
      "cell_type": "code",
      "source": [
        "sort_by_length = lambda strings: sorted(strings, key=lambda x: len(x))\n",
        "\n",
        "\n",
        "#Usage of example\n",
        "words = [\"apple\", \"banana\", \"kiwi\", \"grape\", \"blueberry\"]\n",
        "print(sort_by_length(words))  # Output: ['kiwi', 'apple', 'grape', 'banana', 'blueberry']\n"
      ],
      "metadata": {
        "colab": {
          "base_uri": "https://localhost:8080/"
        },
        "id": "HTyHBj-nGBZh",
        "outputId": "b3406bc5-72ae-461f-c01f-7a27ab39c9c6"
      },
      "execution_count": 8,
      "outputs": [
        {
          "output_type": "stream",
          "name": "stdout",
          "text": [
            "['kiwi', 'apple', 'grape', 'banana', 'blueberry']\n"
          ]
        }
      ]
    },
    {
      "cell_type": "markdown",
      "source": [
        "**10. Create a lambda function that takes two lists as input and returns a new list containing the common elements between the two lists**\n",
        "\n",
        "**Answer.**\n",
        "\n",
        "lambda function that takes two lists as input and returns a new list containing the common elements between the two lists:\n",
        "\n",
        "\"common_elements = lambda list1, list2: list(filter(lambda x: x in list2, list1))\""
      ],
      "metadata": {
        "id": "MSafz_sXGHmi"
      }
    },
    {
      "cell_type": "code",
      "source": [
        "common_elements = lambda list1, list2: list(filter(lambda x: x in list2, list1))\n",
        "\n",
        "\n",
        "#Usage of example\n",
        "list1 = [1, 2, 3, 4, 5]\n",
        "list2 = [4, 5, 6, 7, 8]\n",
        "print(common_elements(list1, list2))  # Output: [4, 5]\n"
      ],
      "metadata": {
        "colab": {
          "base_uri": "https://localhost:8080/"
        },
        "id": "1sm4E5gvGWs8",
        "outputId": "dacf62f3-e1e8-48fb-dfbe-525b6cc5fb58"
      },
      "execution_count": 9,
      "outputs": [
        {
          "output_type": "stream",
          "name": "stdout",
          "text": [
            "[4, 5]\n"
          ]
        }
      ]
    },
    {
      "cell_type": "markdown",
      "source": [
        "**11. Write a recursive function to calculate the factorial of a given positive integer.**\n",
        "\n",
        "**Answer.**\n",
        "\n",
        "Recursive function to calculate the factorial of a given positive integer:"
      ],
      "metadata": {
        "id": "-o4uiio0GbZ4"
      }
    },
    {
      "cell_type": "code",
      "source": [
        "def factorial(n):\n",
        "    # Base case: if n is 1 or 0, return 1\n",
        "    if n <= 1:\n",
        "        return 1\n",
        "    # Recursive case: n * factorial of (n-1)\n",
        "    else:\n",
        "        return n * factorial(n - 1)\n",
        "\n",
        "print(factorial(5))  # Output: 120 (5 * 4 * 3 * 2 * 1)\n",
        "print(factorial(0))  # Output: 1 (base case)\n",
        "print(factorial(1))  # Output: 1 (base case)\n"
      ],
      "metadata": {
        "colab": {
          "base_uri": "https://localhost:8080/"
        },
        "id": "zo_sJEp3GocH",
        "outputId": "fbbbbfcb-a38f-45d8-ac9d-60c6f9526621"
      },
      "execution_count": 10,
      "outputs": [
        {
          "output_type": "stream",
          "name": "stdout",
          "text": [
            "120\n",
            "1\n",
            "1\n"
          ]
        }
      ]
    },
    {
      "cell_type": "markdown",
      "source": [
        "**12. Implement a recursive function to compute the nth Fibonacci number.**\n",
        "\n",
        "**Answer.**\n",
        "\n",
        "Recursive function to compute the nth Fibonacci number:"
      ],
      "metadata": {
        "id": "Vj9iKWWeGs4J"
      }
    },
    {
      "cell_type": "code",
      "source": [
        "def fibonacci(n):\n",
        "    # Base cases\n",
        "    if n <= 0:\n",
        "        return 0\n",
        "    elif n == 1:\n",
        "        return 1\n",
        "    # Recursive case: sum of the (n-1)th and (n-2)th Fibonacci numbers\n",
        "    else:\n",
        "        return fibonacci(n - 1) + fibonacci(n - 2)\n",
        "\n",
        "\n",
        "print(fibonacci(5))  # Output: 5 (Fibonacci sequence: 0, 1, 1, 2, 3, 5, ...)\n",
        "print(fibonacci(10)) # Output: 55 (Fibonacci sequence: 0, 1, 1, 2, 3, 5, 8, 13, 21, 34, 55)\n"
      ],
      "metadata": {
        "colab": {
          "base_uri": "https://localhost:8080/"
        },
        "id": "4j-hodRMG4rA",
        "outputId": "3df4a25a-f51e-4bd0-9a22-8d353b99a035"
      },
      "execution_count": 11,
      "outputs": [
        {
          "output_type": "stream",
          "name": "stdout",
          "text": [
            "5\n",
            "55\n"
          ]
        }
      ]
    },
    {
      "cell_type": "markdown",
      "source": [
        "**13. Create a recursive function to find the sum of all the elements in a given list.**\n",
        "\n",
        "**Answer**\n",
        "\n",
        "Recursive function to find the sum of all the elements in a given list:"
      ],
      "metadata": {
        "id": "o31GaBJYG8zu"
      }
    },
    {
      "cell_type": "code",
      "source": [
        "def sum_of_list(lst):\n",
        "    # Base case: if the list is empty, return 0\n",
        "    if not lst:\n",
        "        return 0\n",
        "    # Recursive case: first element + sum of the rest of the list\n",
        "    else:\n",
        "        return lst[0] + sum_of_list(lst[1:])\n",
        "\n",
        "\n",
        "numbers = [1, 2, 3, 4, 5]\n",
        "print(sum_of_list(numbers))  # Output: 15 (1 + 2 + 3 + 4 + 5)\n"
      ],
      "metadata": {
        "colab": {
          "base_uri": "https://localhost:8080/"
        },
        "id": "Rx1LepWOHGhP",
        "outputId": "d0033396-ff39-49a9-f15a-adaa6703c12d"
      },
      "execution_count": 12,
      "outputs": [
        {
          "output_type": "stream",
          "name": "stdout",
          "text": [
            "15\n"
          ]
        }
      ]
    },
    {
      "cell_type": "markdown",
      "source": [
        "**14. Write a recursive function to determine whether a given string is a palindrome.**\n",
        "\n",
        "**Answer.**\n",
        "\n",
        "Recursive function to determine whether a given string is a palindrome:"
      ],
      "metadata": {
        "id": "36kqEj51HKIj"
      }
    },
    {
      "cell_type": "code",
      "source": [
        "def is_palindrome(s):\n",
        "    # Base case: if the string length is 0 or 1, it's a palindrome\n",
        "    if len(s) <= 1:\n",
        "        return True\n",
        "    # Check if the first and last characters are the same\n",
        "    if s[0] != s[-1]:\n",
        "        return False\n",
        "    # Recursive case: check the substring without the first and last characters\n",
        "    return is_palindrome(s[1:-1])\n",
        "\n",
        "\n",
        "print(is_palindrome(\"racecar\"))  # Output: True (racecar is a palindrome)\n",
        "print(is_palindrome(\"hello\"))    # Output: False (hello is not a palindrome)\n",
        "print(is_palindrome(\"a\"))        # Output: True (a single character is a palindrome)\n",
        "print(is_palindrome(\"\"))         # Output: True (an empty string is a palindrome)\n"
      ],
      "metadata": {
        "colab": {
          "base_uri": "https://localhost:8080/"
        },
        "id": "lHrXPGzkHVe1",
        "outputId": "97d24c36-d75f-419c-b886-71cb10836269"
      },
      "execution_count": 13,
      "outputs": [
        {
          "output_type": "stream",
          "name": "stdout",
          "text": [
            "True\n",
            "False\n",
            "True\n",
            "True\n"
          ]
        }
      ]
    },
    {
      "cell_type": "markdown",
      "source": [
        "**15. Implement a recursive function to find the greatest common divisor (GCD) of two positive integers.**\n",
        "\n",
        "**Answer.**\n",
        "\n",
        "Recursive function to find the greatest common divisor (GCD) of two positive integers using the Euclidean algorithm:"
      ],
      "metadata": {
        "id": "rYuSY665Hdl1"
      }
    },
    {
      "cell_type": "code",
      "source": [
        "def gcd(a, b):\n",
        "    # Base case: if b is 0, the GCD is a\n",
        "    if b == 0:\n",
        "        return a\n",
        "    # Recursive case: call the function with b and the remainder of a divided by b\n",
        "    else:\n",
        "        return gcd(b, a % b)\n",
        "\n",
        "\n",
        "print(gcd(48, 18))  # Output: 6 (GCD of 48 and 18)\n",
        "print(gcd(56, 98))  # Output: 14 (GCD of 56 and 98)\n"
      ],
      "metadata": {
        "colab": {
          "base_uri": "https://localhost:8080/"
        },
        "id": "uNBRCMiPHlSJ",
        "outputId": "fd50abcc-8a7a-4744-b25c-2505fb452d31"
      },
      "execution_count": 14,
      "outputs": [
        {
          "output_type": "stream",
          "name": "stdout",
          "text": [
            "6\n",
            "14\n"
          ]
        }
      ]
    }
  ]
}