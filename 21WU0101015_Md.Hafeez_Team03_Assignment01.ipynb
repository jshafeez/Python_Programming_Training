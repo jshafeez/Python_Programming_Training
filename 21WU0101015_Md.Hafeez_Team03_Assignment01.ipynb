{
  "nbformat": 4,
  "nbformat_minor": 0,
  "metadata": {
    "colab": {
      "provenance": []
    },
    "kernelspec": {
      "name": "python3",
      "display_name": "Python 3"
    },
    "language_info": {
      "name": "python"
    }
  },
  "cells": [
    {
      "cell_type": "markdown",
      "source": [
        "#                 **Assignment-01**"
      ],
      "metadata": {
        "id": "yn3pMcFcC7cH"
      }
    },
    {
      "cell_type": "markdown",
      "source": [
        "**1. In the below elements which of them are values or an expression? eg:- values can be integer or string and expressions will be mathematical operators.**\n",
        "\n",
        "*=>  Multiplication Expression\n",
        "\n",
        "'hello' => String\n",
        "\n",
        "-87.8 => Integer\n",
        "\n",
        "-=> Difference Expression\n",
        "\n",
        "/=> Dividend Expression\n",
        "\n",
        "+=> Addition Expression\n",
        "\n",
        "6 => Integer"
      ],
      "metadata": {
        "id": "s_FcYuusDJIz"
      }
    },
    {
      "cell_type": "markdown",
      "source": [
        "**2.** **What is the difference between string and variable?**\n",
        "\n",
        "**Answer**.\n",
        "\n",
        "**String:** A string is a sequence of characters. Python treats anything inside quotes as a string. This includes letters, numbers, and symbols. Python has no character data type so single character is a string of length 1.\n",
        "\n",
        "**Varible:** Python Variable is containers that store values. A Python variable is a name given to a memory location. We do not need to declare variables before using them or declare their type. A variable is created the moment we first assign a value to it"
      ],
      "metadata": {
        "id": "VpLz0_yqEPZV"
      }
    },
    {
      "cell_type": "markdown",
      "source": [
        "**3.** **Describe three different data types?**\n",
        "\n",
        "**Answer.**\n",
        "\n",
        "Lists: It is a collection of values stored like an array which are mutable (it can be updated/deleted/modified the values). The values are stored in '[ ]'.\n",
        "\n",
        "Tuple: It is also a collection of data and which is immutable(Cannot be deleted/updated/modified). The data is stored in '( )'.\n",
        "\n",
        "Dictionary: It is a collection of data and it will store the data as a key value_pairs_using \" \". The data is stored in '{}'."
      ],
      "metadata": {
        "id": "kWuVQyPMFu_l"
      }
    },
    {
      "cell_type": "markdown",
      "source": [
        "**4.** **What is an expression made up of? What do all expressions do?**\n",
        "\n",
        "**Answer.**\n",
        "\n",
        "An expression is a combination of operators and operands that is interpreted to produce some other value. Types of expressions are Constant, Arithmatic, Boolean, Integral, Floating, Relational, and Logical Expressions.\n",
        "\n",
        "Those will check for Associativity and Precedence and then process the operations to get the other values.\n",
        "\n"
      ],
      "metadata": {
        "id": "1NtnXFjqH057"
      }
    },
    {
      "cell_type": "markdown",
      "source": [
        "**5. This assignment statements, like spam = 10. What is the difference between an expression and a statement?**\n",
        "\n",
        "**Answer.**\n",
        "\n",
        "A Python statement is an instruction that the Python interpreter can execute. There are different types of statements in Python language as Assignment statements, Conditional statements, Looping statements, etc.\n",
        "\n",
        "here, spam = 10 (We are assigning that spam is qual to 10.)\n",
        "\n",
        "An expression is a combination of operators and operands that is interpreted to produce some other value. Types of expressions are Constant, Arithmatic, Boolean, Integral, Floating, Relational, and Logical Expressions"
      ],
      "metadata": {
        "id": "jpfVrVa7KAhK"
      }
    },
    {
      "cell_type": "markdown",
      "source": [
        "**6. After running the following code, what does the variable bacon contain?**\n",
        "\n",
        "bacon = 22\n",
        "\n",
        "bacon + 1\n",
        "\n",
        "**Answer.**\n",
        "\n",
        "The variable contains 23.\n",
        "\n",
        "That is 22+1=23"
      ],
      "metadata": {
        "id": "ASMyi2JXLcQB"
      }
    },
    {
      "cell_type": "markdown",
      "source": [
        "**7. What should the values of the following two terms be?**\n",
        "\n",
        "'spam' + 'spamspam'\n",
        "\n",
        "'spam' * 3\n",
        "\n",
        "**Answer.**\n",
        "\n",
        "'spamspamspam'"
      ],
      "metadata": {
        "id": "vvKszYI6M8Jo"
      }
    },
    {
      "cell_type": "markdown",
      "source": [
        "**8. Why is eggs a valid variable name while 100 is invalid?**\n",
        "\n",
        "**Answer.**\n",
        "\n",
        "While eggs can be a variable name and 100 can't be variable name. Because the number 100 is an integer, not a variable name. We can't just start calling variables by their numeric names. If we start with a string-like alphabet name, then we may move on to integer. It's okay to use eggs or e100 or eggs100.\n",
        "\n",
        "The variable name can't be a string or integer or floats."
      ],
      "metadata": {
        "id": "6A4kSishNaSC"
      }
    },
    {
      "cell_type": "markdown",
      "source": [
        "**9. What three functions can be used to get the integer, floating-point number, or string version of a value?**\n",
        "\n",
        "**Answer.**\n",
        "\n",
        "The functions can be used to get the integer, floatiing-point number, or string version of a value are:\n",
        "\n",
        "str(), int(), and float()"
      ],
      "metadata": {
        "id": "Ru801CVpOnpf"
      }
    },
    {
      "cell_type": "markdown",
      "source": [
        "**10. Why does this expression cause an error? How can you fix it?**\n",
        "\n",
        "'I have eaten ' + 99 + ' burritos.'\n",
        "\n",
        "**Answer.**\n",
        "\n",
        "The expression cause an error because 99 is an integer, and only strings can be concatenated to other strings with the + operator. The correct way is:\n",
        "\n",
        " 'I have eaten ' + str(99) + 'burritos.'"
      ],
      "metadata": {
        "id": "0Rltim-aPST1"
      }
    }
  ]
}