{
  "nbformat": 4,
  "nbformat_minor": 0,
  "metadata": {
    "colab": {
      "provenance": [],
      "toc_visible": true
    },
    "kernelspec": {
      "name": "python3",
      "display_name": "Python 3"
    },
    "language_info": {
      "name": "python"
    }
  },
  "cells": [
    {
      "cell_type": "markdown",
      "source": [
        "**1. Explain what inheritance is in object-oriented programming and why it is used.**\n",
        "\n",
        "**Answer.**\n",
        "\n",
        "\n",
        "Inheritance is a fundamental concept in object-oriented programming (OOP) that allows a child class to inherit the properties and methods of parent class. This mechanism promotes code reuse and establishes a hierarchical relationship between classes.\n",
        "\n",
        "Uses:\n",
        "\n",
        "=> Changes in the parent class automatically apply to all child classes, making it easier to maintain and update code.\n",
        "\n",
        "=> Inheritance enables polymorphism, where a single interface can represent different underlying data types."
      ],
      "metadata": {
        "id": "aolKeCCOuLbg"
      }
    },
    {
      "cell_type": "markdown",
      "source": [
        "**2. Discuss the concept of single inheritance and multiple inheritance, highlighting their\n",
        "differences and advantages.**\n",
        "\n",
        "**Answer.**\n",
        "\n",
        "i) **Single Inheritance:**\n",
        "\n",
        "Single inheritance occurs when a child class inherits from only one parent class.\n",
        "\n",
        "Advantages:\n",
        "\n",
        "=> Easier to understand and implement as there’s only one parent class.\n",
        "\n",
        "=> Keeps the hierarchy simple and straightforward.\n",
        "\n",
        "=> No confusion about which parent class to refer to in case of method or property conflicts.\n",
        "\n",
        "ii) **Multiple Inheritance:**\n",
        "\n",
        "Multiple inheritance occurs when a child class inherits from two or more parent classes.\n",
        "\n",
        "Advantages:\n",
        "\n",
        "=> Combines features and functionality from multiple parent classes into one child class.\n",
        "\n",
        "=> Enables the creation of classes that draw from diverse behaviors and properties."
      ],
      "metadata": {
        "id": "vTblUKgExS06"
      }
    },
    {
      "cell_type": "markdown",
      "source": [
        "**3. Explain the terms \"base class\" and \"derived class\" in the context of inheritance.**\n",
        "\n",
        "**Answer.**\n",
        "\n",
        "**Base Class:**\n",
        "\n",
        "A base class is a class in Object-Oriented Programming language, from which other classes are derived. The class which inherits the base class has all members of a base class as well as can also have some additional properties. The Base class members and member functions are inherited to Object of the derived class. A base class is also called parent class or superclass.\n",
        "\n",
        "**Derived Class:**\n",
        "\n",
        "A class that is created from an existing class. The derived class inherits all members and member functions of a base class. The derived class can have more functionality with respect to the Base class and can easily access the Base class. A Derived class is also called a child class or subclass."
      ],
      "metadata": {
        "id": "5QoqITp2ys9Z"
      }
    },
    {
      "cell_type": "markdown",
      "source": [
        "**4. What is the significance of the \"protected\" access modifier in inheritance? How does it differ from \"private\" and \"public\" modifiers?**\n",
        "\n",
        "**Answer.**\n",
        "\n",
        "**Protected Access Modifiers:**\n",
        "\n",
        "The protected access modifier plays a significant role in inheritance by controlling the visibility and accessibility of class attributes and methods across different scopes. It provides a middle ground between private and public modifiers.\n",
        "\n",
        "**Difference Between Protected, Private, and Public Modifiers**\n",
        "\n",
        "**Public Modifier:**\n",
        "\n",
        "Members are accessible from anywhere (inside the class, derived classes, and external code).\n",
        "\n",
        "Use Case: For functionality or attributes meant to be globally accessible.\n",
        "\n",
        "**Protected Modifier:**\n",
        "\n",
        "Members are accessible within the class and its derived classes but not from external code.\n",
        "\n",
        "Use Case: For members that should be inherited but should not be directly accessed or modified outside the class hierarchy.\n",
        "\n",
        "**Private Modifier:**\n",
        "\n",
        "Members are only accessible within the class itself and are not visible to derived classes or external code.\n",
        "\n",
        "Implementation in Python: Prefix the member name with two underscores (__), which triggers name mangling to make it less accessible."
      ],
      "metadata": {
        "id": "_F2Pbh4szT5B"
      }
    },
    {
      "cell_type": "markdown",
      "source": [
        "**5. What is the purpose of the \"super\" keyword in inheritance? Provide an example.**\n",
        "\n",
        "**Answer.**\n",
        "\n",
        "The super keyword in inheritance is used to refer to the parent class and is particularly helpful when working with method overriding. It allows a child class to access methods and attributes of its parent class without explicitly referencing the parent class by name.\n",
        "\n"
      ],
      "metadata": {
        "id": "ubTcV4Bx06z7"
      }
    },
    {
      "cell_type": "code",
      "source": [
        "#Example for using \"Super\" Keyword in inheritance.\n",
        "\n",
        "class Animal:\n",
        "    def __init__(self, name):\n",
        "        self.name = name\n",
        "\n",
        "class Dog(Animal):\n",
        "    def __init__(self, name, breed):\n",
        "        super().__init__(name)  # Call parent class constructor\n",
        "        self.breed = breed\n",
        "\n",
        "    def describe(self):\n",
        "        return f\"{self.name} is a {self.breed}\"\n",
        "\n",
        "# Usage\n",
        "dog = Dog(\"Buddy\", \"Golden Retriever\")\n",
        "print(dog.describe())\n"
      ],
      "metadata": {
        "colab": {
          "base_uri": "https://localhost:8080/"
        },
        "id": "OTG7o7J31gY9",
        "outputId": "0dc39c0e-4db1-4212-dff5-1c9e4e3ebb12"
      },
      "execution_count": 1,
      "outputs": [
        {
          "output_type": "stream",
          "name": "stdout",
          "text": [
            "Buddy is a Golden Retriever\n"
          ]
        }
      ]
    },
    {
      "cell_type": "markdown",
      "source": [
        "**6. Create a base class called \"Vehicle\" with attributes like \"make\", \"model\", and \"year\". Then, create a derived class called \"Car\" that inherits from \"Vehicle\" and adds an attribute called \"fuel_type\". Implement appropriate methods in both classes.**\n",
        "\n",
        "**Answer.**\n"
      ],
      "metadata": {
        "id": "rQI8MucH10zI"
      }
    },
    {
      "cell_type": "code",
      "source": [
        "class Vehicle:\n",
        "    def __init__(self, make, model, year):\n",
        "        self.make = make\n",
        "        self.model = model\n",
        "        self.year = year\n",
        "\n",
        "    def display_info(self):\n",
        "        return f\"{self.year} {self.make} {self.model}\"\n",
        "\n",
        "class Car(Vehicle):\n",
        "    def __init__(self, make, model, year, fuel_type):\n",
        "        super().__init__(make, model, year)\n",
        "        self.fuel_type = fuel_type\n",
        "\n",
        "    def display_car_info(self):\n",
        "        base_info = super().display_info()\n",
        "        return f\"{base_info} | Fuel Type: {self.fuel_type}\"\n",
        "\n",
        "# Example usage\n",
        "vehicle = Vehicle(\"Toyota\", \"Corolla\", 2020)\n",
        "print(vehicle.display_info())  # Output: 2020 Toyota Corolla\n",
        "\n",
        "car = Car(\"Honda\", \"Civic\", 2022, \"Petrol\")\n",
        "print(car.display_car_info())  # Output: 2022 Honda Civic | Fuel Type: Petrol\n"
      ],
      "metadata": {
        "colab": {
          "base_uri": "https://localhost:8080/"
        },
        "id": "ukUuBWTi2oRt",
        "outputId": "73f1700d-c1d9-4d58-e36c-8c9a6d5a567f"
      },
      "execution_count": 2,
      "outputs": [
        {
          "output_type": "stream",
          "name": "stdout",
          "text": [
            "2020 Toyota Corolla\n",
            "2022 Honda Civic | Fuel Type: Petrol\n"
          ]
        }
      ]
    },
    {
      "cell_type": "markdown",
      "source": [
        "**7. Create a base class called \"Employee\" with attributes like \"name\" and \"salary.\" Derive two classes, \"Manager\" and \"Developer,\" from \"Employee.\" Add an additional attribute called \"department\" for the \"Manager\" class and \"programming_language\" for the \"Developer\" class.**\n",
        "\n",
        "**Answer.**\n",
        "\n"
      ],
      "metadata": {
        "id": "fRdzlx-72uz0"
      }
    },
    {
      "cell_type": "code",
      "source": [
        "class Employee:\n",
        "    def __init__(self, name, salary):\n",
        "        self.name = name\n",
        "        self.salary = salary\n",
        "\n",
        "    def display_info(self):\n",
        "        return f\"Employee Name: {self.name}, Salary: {self.salary}\"\n",
        "\n",
        "class Manager(Employee):\n",
        "    def __init__(self, name, salary, department):\n",
        "        super().__init__(name, salary)\n",
        "        self.department = department\n",
        "\n",
        "    def display_manager_info(self):\n",
        "        base_info = super().display_info()\n",
        "        return f\"{base_info}, Department: {self.department}\"\n",
        "\n",
        "class Developer(Employee):\n",
        "    def __init__(self, name, salary, programming_language):\n",
        "        super().__init__(name, salary)\n",
        "        self.programming_language = programming_language\n",
        "\n",
        "    def display_developer_info(self):\n",
        "        base_info = super().display_info()\n",
        "        return f\"{base_info}, Programming Language: {self.programming_language}\"\n",
        "\n",
        "# Example usage\n",
        "employee = Employee(\"Alice\", 50000)\n",
        "print(employee.display_info())  # Output: Employee Name: Alice, Salary: 50000\n",
        "\n",
        "manager = Manager(\"Bob\", 80000, \"HR\")\n",
        "print(manager.display_manager_info())  # Output: Employee Name: Bob, Salary: 80000, Department: HR\n",
        "\n",
        "developer = Developer(\"Charlie\", 70000, \"Python\")\n",
        "print(developer.display_developer_info())  # Output: Employee Name: Charlie, Salary: 70000, Programming Language: Python\n"
      ],
      "metadata": {
        "colab": {
          "base_uri": "https://localhost:8080/"
        },
        "id": "L3OKfqFJ3HtZ",
        "outputId": "2462907c-f801-414d-9b24-13fa118a28d1"
      },
      "execution_count": 3,
      "outputs": [
        {
          "output_type": "stream",
          "name": "stdout",
          "text": [
            "Employee Name: Alice, Salary: 50000\n",
            "Employee Name: Bob, Salary: 80000, Department: HR\n",
            "Employee Name: Charlie, Salary: 70000, Programming Language: Python\n"
          ]
        }
      ]
    },
    {
      "cell_type": "markdown",
      "source": [
        "**8. Design a base class called \"Shape\" with attributes like \"colour\" and \"border_width.\" Create derived classes, \"Rectangle\" and \"Circle,\" that inherit from \"Shape\" and add specific attributes like \"length\" and \"width\" for the \"Rectangle\" class and \"radius\" for the \"Circle\" class.**\n",
        "\n",
        "**Answer.**\n",
        "\n"
      ],
      "metadata": {
        "id": "2caOfTah3Nj5"
      }
    },
    {
      "cell_type": "code",
      "source": [
        "class Shape:\n",
        "    def __init__(self, colour, border_width):\n",
        "        self.colour = colour\n",
        "        self.border_width = border_width\n",
        "\n",
        "    def display_info(self):\n",
        "        return f\"Colour: {self.colour}, Border Width: {self.border_width}\"\n",
        "\n",
        "class Rectangle(Shape):\n",
        "    def __init__(self, colour, border_width, length, width):\n",
        "        super().__init__(colour, border_width)\n",
        "        self.length = length\n",
        "        self.width = width\n",
        "\n",
        "    def area(self):\n",
        "        return self.length * self.width\n",
        "\n",
        "    def display_rectangle_info(self):\n",
        "        base_info = super().display_info()\n",
        "        return f\"{base_info}, Length: {self.length}, Width: {self.width}, Area: {self.area()}\"\n",
        "\n",
        "class Circle(Shape):\n",
        "    def __init__(self, colour, border_width, radius):\n",
        "        super().__init__(colour, border_width)\n",
        "        self.radius = radius\n",
        "\n",
        "    def area(self):\n",
        "        return 3.14159 * self.radius ** 2\n",
        "\n",
        "    def display_circle_info(self):\n",
        "        base_info = super().display_info()\n",
        "        return f\"{base_info}, Radius: {self.radius}, Area: {self.area()}\"\n",
        "\n",
        "# Example usage\n",
        "rectangle = Rectangle(\"Blue\", 2, 10, 5)\n",
        "print(rectangle.display_rectangle_info())  # Output: Colour: Blue, Border Width: 2, Length: 10, Width: 5, Area: 50\n",
        "\n",
        "circle = Circle(\"Red\", 1, 7)\n",
        "print(circle.display_circle_info())  # Output: Colour: Red, Border Width: 1, Radius: 7, Area: 153.93804\n"
      ],
      "metadata": {
        "colab": {
          "base_uri": "https://localhost:8080/"
        },
        "id": "HOi3AYTW3iCE",
        "outputId": "ab013471-29bf-4af3-d19d-e0be3c375885"
      },
      "execution_count": 4,
      "outputs": [
        {
          "output_type": "stream",
          "name": "stdout",
          "text": [
            "Colour: Blue, Border Width: 2, Length: 10, Width: 5, Area: 50\n",
            "Colour: Red, Border Width: 1, Radius: 7, Area: 153.93791\n"
          ]
        }
      ]
    },
    {
      "cell_type": "markdown",
      "source": [
        "**9. Create a base class called \"Device\" with attributes like \"brand\" and \"model.\" Derive two classes, \"Phone\" and \"Tablet,\" from \"Device.\" Add specific attributes like\"screen_size\" for the \"Phone\" class and \"battery_capacity\" for the \"Tablet\" class.**\n",
        "\n",
        "**Answer.**\n",
        "\n"
      ],
      "metadata": {
        "id": "d0yCkzOv3j-E"
      }
    },
    {
      "cell_type": "code",
      "source": [
        "class Device:\n",
        "    def __init__(self, brand, model):\n",
        "        self.brand = brand\n",
        "        self.model = model\n",
        "\n",
        "    def display_info(self):\n",
        "        return f\"Brand: {self.brand}, Model: {self.model}\"\n",
        "\n",
        "class Phone(Device):\n",
        "    def __init__(self, brand, model, screen_size):\n",
        "        super().__init__(brand, model)\n",
        "        self.screen_size = screen_size\n",
        "\n",
        "    def display_phone_info(self):\n",
        "        base_info = super().display_info()\n",
        "        return f\"{base_info}, Screen Size: {self.screen_size} inches\"\n",
        "\n",
        "class Tablet(Device):\n",
        "    def __init__(self, brand, model, battery_capacity):\n",
        "        super().__init__(brand, model)\n",
        "        self.battery_capacity = battery_capacity\n",
        "\n",
        "    def display_tablet_info(self):\n",
        "        base_info = super().display_info()\n",
        "        return f\"{base_info}, Battery Capacity: {self.battery_capacity} mAh\"\n",
        "\n",
        "# Example usage\n",
        "phone = Phone(\"Apple\", \"iPhone 14\", 6.1)\n",
        "print(phone.display_phone_info())  # Output: Brand: Apple, Model: iPhone 14, Screen Size: 6.1 inches\n",
        "\n",
        "tablet = Tablet(\"Samsung\", \"Galaxy Tab S8\", 8000)\n",
        "print(tablet.display_tablet_info())  # Output: Brand: Samsung, Model: Galaxy Tab S8, Battery Capacity: 8000 mAh\n"
      ],
      "metadata": {
        "colab": {
          "base_uri": "https://localhost:8080/"
        },
        "id": "w9961O_x33ht",
        "outputId": "89e798ea-5c7b-4aa6-acfd-1bfc2a73b652"
      },
      "execution_count": 5,
      "outputs": [
        {
          "output_type": "stream",
          "name": "stdout",
          "text": [
            "Brand: Apple, Model: iPhone 14, Screen Size: 6.1 inches\n",
            "Brand: Samsung, Model: Galaxy Tab S8, Battery Capacity: 8000 mAh\n"
          ]
        }
      ]
    },
    {
      "cell_type": "markdown",
      "source": [
        "**10. Create a base class called \"BankAccount\" with attributes like \"account_number\" and \"balance.\" Derive two classes, \"SavingsAccount\" and \"CheckingAccount,\" from \"BankAccount.\" Add specific methods like \"calculate_interest\" for the \"SavingsAccount\" class and \"deduct_fees\" for the \"CheckingAccount\" class.***\n",
        "\n",
        "**Answer.**\n",
        "\n"
      ],
      "metadata": {
        "id": "_HRwjj7u35Ec"
      }
    },
    {
      "cell_type": "code",
      "source": [
        "class BankAccount:\n",
        "    def __init__(self, account_number, balance):\n",
        "        self.account_number = account_number\n",
        "        self.balance = balance\n",
        "\n",
        "    def deposit(self, amount):\n",
        "        if amount > 0:\n",
        "            self.balance += amount\n",
        "            return f\"Deposited: {amount}. New Balance: {self.balance}\"\n",
        "        else:\n",
        "            return \"Deposit amount must be positive.\"\n",
        "\n",
        "    def withdraw(self, amount):\n",
        "        if amount > 0 and amount <= self.balance:\n",
        "            self.balance -= amount\n",
        "            return f\"Withdrawn: {amount}. Remaining Balance: {self.balance}\"\n",
        "        else:\n",
        "            return \"Insufficient balance or invalid amount.\"\n",
        "\n",
        "    def display_info(self):\n",
        "        return f\"Account Number: {self.account_number}, Balance: {self.balance}\"\n",
        "\n",
        "class SavingsAccount(BankAccount):\n",
        "    def __init__(self, account_number, balance, interest_rate):\n",
        "        super().__init__(account_number, balance)\n",
        "        self.interest_rate = interest_rate\n",
        "\n",
        "    def calculate_interest(self):\n",
        "        interest = self.balance * (self.interest_rate / 100)\n",
        "        return f\"Interest: {interest}, Balance after Interest: {self.balance + interest}\"\n",
        "\n",
        "class CheckingAccount(BankAccount):\n",
        "    def __init__(self, account_number, balance, fee):\n",
        "        super().__init__(account_number, balance)\n",
        "        self.fee = fee\n",
        "\n",
        "    def deduct_fees(self):\n",
        "        if self.fee <= self.balance:\n",
        "            self.balance -= self.fee\n",
        "            return f\"Fees Deducted: {self.fee}. Remaining Balance: {self.balance}\"\n",
        "        else:\n",
        "            return \"Insufficient balance to deduct fees.\"\n",
        "\n",
        "# Example usage\n",
        "savings = SavingsAccount(\"SA12345\", 5000, 3.5)\n",
        "print(savings.display_info())  # Output: Account Number: SA12345, Balance: 5000\n",
        "print(savings.calculate_interest())  # Output: Interest: 175.0, Balance after Interest: 5175.0\n",
        "\n",
        "checking = CheckingAccount(\"CA67890\", 2000, 50)\n",
        "print(checking.display_info())  # Output: Account Number: CA67890, Balance: 2000\n",
        "print(checking.deduct_fees())  # Output: Fees Deducted: 50. Remaining Balance: 1950\n"
      ],
      "metadata": {
        "colab": {
          "base_uri": "https://localhost:8080/"
        },
        "id": "0MeltrW14SWx",
        "outputId": "e235b291-17d2-4425-9ae2-6eda81f9081e"
      },
      "execution_count": 6,
      "outputs": [
        {
          "output_type": "stream",
          "name": "stdout",
          "text": [
            "Account Number: SA12345, Balance: 5000\n",
            "Interest: 175.00000000000003, Balance after Interest: 5175.0\n",
            "Account Number: CA67890, Balance: 2000\n",
            "Fees Deducted: 50. Remaining Balance: 1950\n"
          ]
        }
      ]
    }
  ]
}